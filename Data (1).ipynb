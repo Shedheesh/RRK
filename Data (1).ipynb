{
 "cells": [
  {
   "cell_type": "markdown",
   "metadata": {
    "collapsed": true
   },
   "source": [
    "# Data Section:"
   ]
  },
  {
   "cell_type": "markdown",
   "metadata": {},
   "source": [
    "This section includes description of the data and how it will be used to solve the problem.\n",
    "\n",
    "\n",
    "Clearly, to solve the above business problem we need location data. What is location data? Location data is data describing places and venues, such as their geographical location, their category, working hours, full address, and so on, such that for a given location given in the form of its geographical coordinates (or latitude and longitude values) one is able to determine what types of venues exist within a defined radius from that location.\n",
    "So, for a given location you will be able to tell which place exists nearby it maybe any place which is present in the data. Now among the many location data providers are i) **Foursquare**,\n",
    "                                                                                                                                                                ii) **Google Places**,\n",
    "                                                                                                                                                                iii) **Yelp**.\n",
    "\n",
    "How to choose a Location data provider: 1) **Rate Limits**,\n",
    "                                        2) **Costs**,\n",
    "                                        3) **Coverage**, \n",
    "                                        4) **Accuracy**,\n",
    "                                        5) **Update Frequency**.\n",
    "Foursquare update their data continuously, whereas other providers would update their data either daily or weekly depending on their location data.\n",
    "\n",
    "## Data Collection\n",
    "#### Foursquare: \n",
    "But as far as this project is concerned, we will use the Foursquare location dataset their dataset to be the most comprehensive so far. Also creating a developer account to use their API is quite straightforward and the easiest compared to other providers. We'll explore the so called city by leveraging location data to find out the venues. \n",
    "#### Web Scraping:\n",
    "To extract the Cityscapes i.e., Neighbourhoods and Landmarks we'll BeautifulSoup package. \n",
    "                    \n",
    "                    \n",
    "                                       "
   ]
  },
  {
   "cell_type": "markdown",
   "metadata": {},
   "source": []
  }
 ],
 "metadata": {
  "kernelspec": {
   "display_name": "Python 3.6",
   "language": "python",
   "name": "python3"
  },
  "language_info": {
   "codemirror_mode": {
    "name": "ipython",
    "version": 3
   },
   "file_extension": ".py",
   "mimetype": "text/x-python",
   "name": "python",
   "nbconvert_exporter": "python",
   "pygments_lexer": "ipython3",
   "version": "3.6.9"
  }
 },
 "nbformat": 4,
 "nbformat_minor": 1
}
